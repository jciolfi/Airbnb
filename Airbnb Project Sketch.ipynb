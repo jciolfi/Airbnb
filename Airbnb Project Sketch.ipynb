{
  "nbformat": 4,
  "nbformat_minor": 0,
  "metadata": {
    "kernelspec": {
      "display_name": "Python 3",
      "language": "python",
      "name": "python3"
    },
    "language_info": {
      "codemirror_mode": {
        "name": "ipython",
        "version": 3
      },
      "file_extension": ".py",
      "mimetype": "text/x-python",
      "name": "python",
      "nbconvert_exporter": "python",
      "pygments_lexer": "ipython3",
      "version": "3.8.5"
    },
    "colab": {
      "name": "Final Project Sketch.ipynb",
      "provenance": []
    }
  },
  "cells": [
    {
      "cell_type": "markdown",
      "metadata": {
        "id": "5el9WmKu8NAK"
      },
      "source": [
        "DS 3000 \n",
        "Spring 2021\n",
        "\n",
        "# Airbnb Listings - Predicting Price & Performance"
      ]
    },
    {
      "cell_type": "markdown",
      "metadata": {
        "id": "rRw8IOYJ8NAP"
      },
      "source": [
        "# Motivation:\n",
        "## Problem\n",
        "Determining whether a house listing is more popular if different neighborhoods, different months of the year, and whether number of customer reviews matter. \n",
        "\n",
        "Questions: \n",
        "- What can we learn about different hosts and areas?\n",
        "- What can we learn from predictions? (ex: locations, prices, reviews, etc)\n",
        "- Which hosts are the busiest and why?\n",
        "- How are listing prices determined? \n",
        "- How many listings are in my neighbourhood and where are they?\n",
        "- How many houses and apartments are being rented out frequently to tourists and not to long-term residents?\n",
        "- How much are hosts making from renting to tourists (compare that to long-term rentals)?\n",
        "- Which hosts are running a business with multiple listings and where they?\n",
        "\n",
        "How to determine average rating of a listing and popularity of a listing? What is the number of users or number of reviews for specific listing. \n",
        "\n",
        "How we can do web-scraping on Airbnb data!! Might be easier than the already made API. Location (lat-lng) \n",
        "get airbnb url - get listings - do the 14 day free trial \n",
        "start scraping - identify what are the constraints \n",
        "\n",
        "\n",
        "## Solution \n",
        "Since 2008, guests and hosts have used Airbnb to expand on traveling possibilities and present more unique, personalized way of experiencing the world.\n",
        "\n",
        "**The goal of this project is to conduct descriptive and exploratory analysis of the airbnb datasets to identify relationships between each of the variables that affect airbnb price listings and why some listings are more popular/successful than others. \n",
        "\n",
        "I will use statistical techniques such as classification of variables, frequency distribution tables, histograms, heatmaps, regression analysis, measures of central tendency, etc. to carry out my data exploration and visualization.\n",
        "\n",
        "## Impact \n",
        "\n",
        "This work may yield a classifier which predicts which listings are the most popular and will help generate hypotheses useful for future decision-making. Airbnb hosts will be able to better position their homes to customers and make the best possible listing price for their homes. "
      ]
    },
    {
      "cell_type": "markdown",
      "metadata": {
        "id": "EBI32nmXyTIu"
      },
      "source": [
        "Getting Airbnb API: https://rapidapi.com/blog/airbnb-api-python/\n",
        "- Sign up for RapidAPI Account\n",
        "- Subscribe to Mashvisor API\n",
        "- Check out the API Endpoints under Trends Category"
      ]
    },
    {
      "cell_type": "markdown",
      "metadata": {
        "id": "JTA6Ygl58NAP"
      },
      "source": [
        "## DataSets\n",
        "\n",
        "- https://urldefense.com/v3/__http://insideairbnb.com/get-the-data.html__;!!N4vogdjhuJM!XFDIU0qBGNRRuVGa8OUTwnCDquXSrKbLW-8mP5lhCgATojgyoqislKKOlSNAxqp033Q5Ug$\n",
        "- https://www.kaggle.com/ronikdhakar/airbnb-dataset\n",
        "- https://www.kaggle.com/stevezhenghp/airbnb-price-prediction\n",
        "\n",
        "### I am still exploring which dataset to use but the first one listed is publicly available airbnb data "
      ]
    },
    {
      "cell_type": "markdown",
      "metadata": {
        "id": "vjA_RmGc8NAQ"
      },
      "source": [
        "## Other Datasets \n",
        "### if different neighborhoods in NYC are more popular \n",
        "https://www.kaggle.com/scsaurabh/complete-analysis-of-airbnb-data-new-york-city\n",
        "df = pd.read_csv(\"../input/new-york-city-airbnb-open-data/AB_NYC_2019.csv\")\n",
        "\n",
        "\n",
        "### looking at different months of the year and predicting which season is the most popular\n",
        "https://www.kaggle.com/minhtc4/airbnb-descriptive-and-predictive-analytics"
      ]
    },
    {
      "cell_type": "markdown",
      "metadata": {
        "id": "MP_YrQUPDJUy"
      },
      "source": [
        "Each team will have 10 minutes, which is not a lot of time (but there are 63 teams!). To make the most of the meeting, please be sure to:\n",
        "\n",
        "- have all team members present at the meeting\n",
        "- start the meeting by describing your project in 30 seconds (we'll be in these meetings back-to-back and it'll help orient us)\n",
        "- have a list of important questions you want to have answered written out\n",
        "- be ready to screen share a notebook / API website / csv etc related to any questions\n",
        "- make sure that all team members are present (and on time) so they can participate"
      ]
    },
    {
      "cell_type": "markdown",
      "metadata": {
        "id": "lYDa09JsDNAY"
      },
      "source": [
        ""
      ]
    }
  ]
}