{
 "cells": [
  {
   "cell_type": "markdown",
   "id": "polyphonic-crawford",
   "metadata": {},
   "source": [
    "# Data and Analysis Plan: Performance Predictor for Boston Airbnb Listings\n",
    "\n",
    "## Team 6\n",
    "- Helene Barbier (barbier.h@northeastern.edu)\n",
    "- John Ciolfi (ciolfi.j@northeastern.edu)\n",
    "- Parth Gala (gala.pa@northeastern.edu)\n",
    "- Ethan Lee (lee.et@northeastern.edu)\n",
    "\n",
    "## Project Goal:\n",
    "This work will use the datasets from [Kaggle.com](https://www.kaggle.com/airbnb/boston) to predict how well a theoretical listing will perform based on the existing listings nearby."
   ]
  },
  {
   "cell_type": "markdown",
   "id": "editorial-garden",
   "metadata": {},
   "source": [
    "# Data\n",
    "\n",
    "## Overview\n",
    "We will clean the datasets from [Boston Airbnb Open Data](https://www.kaggle.com/airbnb/boston).\n",
    "\n",
    "From these datasets, we can obtain characteristics of existing Airbnb listings, including:\n",
    "- Availability\n",
    "- Location\n",
    "- Property Type\n",
    "- Bedrooms\n",
    "- Bathrooms\n",
    "- Day, Week, and Month prices\n",
    "- Fees\n",
    "- Reviews\n",
    "- Host response time/rate\n",
    "\n",
    "### Pipeline Overview"
   ]
  },
  {
   "cell_type": "markdown",
   "id": "regional-village",
   "metadata": {},
   "source": [
    "### Pipeline"
   ]
  },
  {
   "cell_type": "markdown",
   "id": "treated-affair",
   "metadata": {},
   "source": [
    "### Visualizations"
   ]
  },
  {
   "cell_type": "markdown",
   "id": "theoretical-ending",
   "metadata": {},
   "source": [
    "### Analysis Plan"
   ]
  }
 ],
 "metadata": {
  "kernelspec": {
   "display_name": "Python 3",
   "language": "python",
   "name": "python3"
  },
  "language_info": {
   "codemirror_mode": {
    "name": "ipython",
    "version": 3
   },
   "file_extension": ".py",
   "mimetype": "text/x-python",
   "name": "python",
   "nbconvert_exporter": "python",
   "pygments_lexer": "ipython3",
   "version": "3.8.5"
  }
 },
 "nbformat": 4,
 "nbformat_minor": 5
}
